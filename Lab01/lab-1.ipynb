{
 "cells": [
  {
   "cell_type": "markdown",
   "metadata": {},
   "source": [
    "# Prática 1"
   ]
  },
  {
   "cell_type": "markdown",
   "metadata": {},
   "source": [
    "***Alunos***\n",
    "-------------------------------------------------\n",
    "* Davi Alexandre Paiva  Matrícula: 375236\n",
    "* Tales Araujo dos Santos - Matrícula: 374953\n",
    "-------------------------------------------------"
   ]
  },
  {
   "cell_type": "markdown",
   "metadata": {},
   "source": [
    "Bibliotecas necessárias para a prática"
   ]
  },
  {
   "cell_type": "code",
   "execution_count": 2,
   "metadata": {},
   "outputs": [],
   "source": [
    "import socket\n",
    "import requests"
   ]
  },
  {
   "cell_type": "markdown",
   "metadata": {},
   "source": [
    "### Obtendo informações sobre a rede"
   ]
  },
  {
   "cell_type": "markdown",
   "metadata": {},
   "source": [
    "Exibir o endereço IP da máquina"
   ]
  },
  {
   "cell_type": "code",
   "execution_count": 3,
   "metadata": {},
   "outputs": [
    {
     "data": {
      "text/plain": [
       "'127.0.1.1'"
      ]
     },
     "execution_count": 3,
     "metadata": {},
     "output_type": "execute_result"
    }
   ],
   "source": [
    "hostname = socket.gethostname()\n",
    "socket.gethostbyname(hostname)"
   ]
  },
  {
   "cell_type": "markdown",
   "metadata": {},
   "source": [
    "Exibir o _hostname_ da máquina"
   ]
  },
  {
   "cell_type": "code",
   "execution_count": 4,
   "metadata": {},
   "outputs": [
    {
     "data": {
      "text/plain": [
       "'DELL-E6420'"
      ]
     },
     "execution_count": 4,
     "metadata": {},
     "output_type": "execute_result"
    }
   ],
   "source": [
    "hostname"
   ]
  },
  {
   "cell_type": "markdown",
   "metadata": {},
   "source": [
    "Para a porta 0 até 9999, mostrar uma listagem de serviços de rede conhecidos para os protocolos TCP e UDP."
   ]
  },
  {
   "cell_type": "code",
   "execution_count": 5,
   "metadata": {},
   "outputs": [
    {
     "name": "stdout",
     "output_type": "stream",
     "text": [
      "    1 \tService: tcpmux    \tProtocol: TCP       \n",
      "    7 \tService: echo      \tProtocol: TCP/UDP   \n",
      "    9 \tService: discard   \tProtocol: TCP/UDP   \n",
      "    11\tService: systat    \tProtocol: TCP       \n",
      "    13\tService: daytime   \tProtocol: TCP/UDP   \n",
      "    15\tService: netstat   \tProtocol: TCP       \n",
      "    17\tService: qotd      \tProtocol: TCP       \n",
      "    18\tService: msp       \tProtocol: TCP/UDP   \n",
      "    19\tService: chargen   \tProtocol: TCP/UDP   \n",
      "    20\tService: ftp-data  \tProtocol: TCP       \n",
      "    21\tService: ftp       \tProtocol: TCP/UDP   \n",
      "    22\tService: ssh       \tProtocol: TCP       \n",
      "    23\tService: telnet    \tProtocol: TCP       \n",
      "    25\tService: smtp      \tProtocol: TCP       \n",
      "    37\tService: time      \tProtocol: TCP/UDP   \n",
      "    39\tService: rlp       \tProtocol: UDP       \n",
      "    42\tService: nameserver\tProtocol: TCP       \n",
      "    43\tService: whois     \tProtocol: TCP       \n",
      "    49\tService: tacacs    \tProtocol: TCP/UDP   \n",
      "    50\tService: re-mail-ck\tProtocol: TCP/UDP   \n",
      "    53\tService: domain    \tProtocol: TCP/UDP   \n",
      "    65\tService: tacacs-ds \tProtocol: TCP/UDP   \n",
      "    67\tService: bootps    \tProtocol: TCP/UDP   \n",
      "    68\tService: bootpc    \tProtocol: TCP/UDP   \n",
      "    69\tService: tftp      \tProtocol: UDP       \n",
      "    70\tService: gopher    \tProtocol: TCP       \n",
      "    79\tService: finger    \tProtocol: TCP       \n",
      "    80\tService: http      \tProtocol: TCP       \n",
      "    87\tService: link      \tProtocol: TCP       \n",
      "    88\tService: kerberos  \tProtocol: TCP/UDP   \n",
      "    95\tService: supdup    \tProtocol: TCP       \n",
      "    98\tService: linuxconf \tProtocol: TCP       \n",
      "    101\tService: hostnames \tProtocol: TCP       \n",
      "    102\tService: iso-tsap  \tProtocol: TCP       \n",
      "    104\tService: acr-nema  \tProtocol: TCP/UDP   \n",
      "    105\tService: csnet-ns  \tProtocol: TCP/UDP   \n",
      "    106\tService: poppassd  \tProtocol: TCP/UDP   \n",
      "    107\tService: rtelnet   \tProtocol: TCP/UDP   \n",
      "    110\tService: pop3      \tProtocol: TCP       \n",
      "    111\tService: sunrpc    \tProtocol: TCP/UDP   \n",
      "    113\tService: auth      \tProtocol: TCP       \n",
      "    115\tService: sftp      \tProtocol: TCP       \n",
      "    119\tService: nntp      \tProtocol: TCP       \n",
      "    123\tService: ntp       \tProtocol: TCP/UDP   \n",
      "    129\tService: pwdgen    \tProtocol: TCP/UDP   \n",
      "    135\tService: loc-srv   \tProtocol: TCP/UDP   \n",
      "    137\tService: netbios-ns\tProtocol: TCP/UDP   \n",
      "    138\tService: netbios-dgm\tProtocol: TCP/UDP   \n",
      "    139\tService: netbios-ssn\tProtocol: TCP/UDP   \n",
      "    143\tService: imap2     \tProtocol: TCP       \n",
      "    161\tService: snmp      \tProtocol: TCP/UDP   \n",
      "    162\tService: snmp-trap \tProtocol: TCP/UDP   \n",
      "    163\tService: cmip-man  \tProtocol: TCP/UDP   \n",
      "    164\tService: cmip-agent\tProtocol: TCP/UDP   \n",
      "    174\tService: mailq     \tProtocol: TCP/UDP   \n",
      "    177\tService: xdmcp     \tProtocol: TCP/UDP   \n",
      "    178\tService: nextstep  \tProtocol: TCP/UDP   \n",
      "    179\tService: bgp       \tProtocol: TCP       \n",
      "    194\tService: irc       \tProtocol: TCP/UDP   \n",
      "    199\tService: smux      \tProtocol: TCP/UDP   \n",
      "    201\tService: at-rtmp   \tProtocol: TCP/UDP   \n",
      "    202\tService: at-nbp    \tProtocol: TCP/UDP   \n",
      "    204\tService: at-echo   \tProtocol: TCP/UDP   \n",
      "    206\tService: at-zis    \tProtocol: TCP/UDP   \n",
      "    209\tService: qmtp      \tProtocol: TCP/UDP   \n",
      "    210\tService: z3950     \tProtocol: TCP/UDP   \n",
      "    213\tService: ipx       \tProtocol: TCP/UDP   \n",
      "    345\tService: pawserv   \tProtocol: TCP/UDP   \n",
      "    346\tService: zserv     \tProtocol: TCP/UDP   \n",
      "    347\tService: fatserv   \tProtocol: TCP/UDP   \n",
      "    369\tService: rpc2portmap\tProtocol: TCP/UDP   \n",
      "    370\tService: codaauth2 \tProtocol: TCP/UDP   \n",
      "    371\tService: clearcase \tProtocol: TCP/UDP   \n",
      "    372\tService: ulistserv \tProtocol: TCP/UDP   \n",
      "    389\tService: ldap      \tProtocol: TCP/UDP   \n",
      "    406\tService: imsp      \tProtocol: TCP/UDP   \n",
      "    427\tService: svrloc    \tProtocol: TCP/UDP   \n",
      "    443\tService: https     \tProtocol: TCP       \n",
      "    444\tService: snpp      \tProtocol: TCP/UDP   \n",
      "    445\tService: microsoft-ds\tProtocol: TCP/UDP   \n",
      "    464\tService: kpasswd   \tProtocol: TCP/UDP   \n",
      "    465\tService: urd       \tProtocol: TCP       \n",
      "    487\tService: saft      \tProtocol: TCP/UDP   \n",
      "    500\tService: isakmp    \tProtocol: TCP/UDP   \n",
      "    512\tService: exec      \tProtocol: TCP/UDP   \n",
      "    513\tService: login     \tProtocol: TCP/UDP   \n",
      "    514\tService: shell     \tProtocol: TCP/UDP   \n",
      "    515\tService: printer   \tProtocol: TCP       \n",
      "    517\tService: talk      \tProtocol: UDP       \n",
      "    518\tService: ntalk     \tProtocol: UDP       \n",
      "    520\tService: route     \tProtocol: UDP       \n",
      "    525\tService: timed     \tProtocol: UDP       \n",
      "    526\tService: tempo     \tProtocol: TCP       \n",
      "    530\tService: courier   \tProtocol: TCP       \n",
      "    531\tService: conference\tProtocol: TCP       \n",
      "    532\tService: netnews   \tProtocol: TCP       \n",
      "    533\tService: netwall   \tProtocol: UDP       \n",
      "    538\tService: gdomap    \tProtocol: TCP/UDP   \n",
      "    540\tService: uucp      \tProtocol: TCP       \n",
      "    543\tService: klogin    \tProtocol: TCP       \n",
      "    544\tService: kshell    \tProtocol: TCP       \n",
      "    546\tService: dhcpv6-client\tProtocol: TCP/UDP   \n",
      "    547\tService: dhcpv6-server\tProtocol: TCP/UDP   \n",
      "    548\tService: afpovertcp\tProtocol: TCP/UDP   \n",
      "    549\tService: idfp      \tProtocol: TCP/UDP   \n",
      "    554\tService: rtsp      \tProtocol: TCP/UDP   \n",
      "    556\tService: remotefs  \tProtocol: TCP       \n",
      "    563\tService: nntps     \tProtocol: TCP       \n",
      "    587\tService: submission\tProtocol: TCP       \n",
      "    607\tService: nqs       \tProtocol: TCP/UDP   \n",
      "    610\tService: npmp-local\tProtocol: TCP/UDP   \n",
      "    611\tService: npmp-gui  \tProtocol: TCP/UDP   \n",
      "    612\tService: hmmp-ind  \tProtocol: TCP/UDP   \n",
      "    623\tService: asf-rmcp  \tProtocol: UDP       \n",
      "    628\tService: qmqp      \tProtocol: TCP/UDP   \n",
      "    631\tService: ipp       \tProtocol: TCP/UDP   \n",
      "    636\tService: ldaps     \tProtocol: TCP/UDP   \n",
      "    655\tService: tinc      \tProtocol: TCP/UDP   \n",
      "    706\tService: silc      \tProtocol: TCP/UDP   \n",
      "    749\tService: kerberos-adm\tProtocol: TCP       \n",
      "    750\tService: kerberos4 \tProtocol: TCP/UDP   \n",
      "    751\tService: kerberos-master\tProtocol: TCP/UDP   \n",
      "    752\tService: passwd-server\tProtocol: UDP       \n",
      "    754\tService: krb-prop  \tProtocol: TCP       \n",
      "    760\tService: krbupdate \tProtocol: TCP       \n",
      "    765\tService: webster   \tProtocol: TCP/UDP   \n",
      "    775\tService: moira-db  \tProtocol: TCP       \n",
      "    777\tService: moira-update\tProtocol: TCP       \n",
      "    779\tService: moira-ureg\tProtocol: UDP       \n",
      "    783\tService: spamd     \tProtocol: TCP       \n",
      "    808\tService: omirr     \tProtocol: TCP/UDP   \n",
      "    871\tService: supfilesrv\tProtocol: TCP       \n",
      "    873\tService: rsync     \tProtocol: TCP       \n",
      "    901\tService: swat      \tProtocol: TCP       \n",
      "    989\tService: ftps-data \tProtocol: TCP       \n",
      "    990\tService: ftps      \tProtocol: TCP       \n",
      "    992\tService: telnets   \tProtocol: TCP       \n",
      "    993\tService: imaps     \tProtocol: TCP       \n",
      "    995\tService: pop3s     \tProtocol: TCP       \n"
     ]
    }
   ],
   "source": [
    "services = [] \n",
    "\n",
    "for port in range(1000):\n",
    "    try:\n",
    "        tcp_service = socket.getservbyport(port, 'tcp')\n",
    "    except OSError:\n",
    "        tcp_service = None\n",
    "        \n",
    "    try:\n",
    "        udp_service = socket.getservbyport(port, 'udp')\n",
    "    except OSError:\n",
    "        udp_service = None\n",
    "        \n",
    "     \n",
    "    if tcp_service is not None and udp_service is not None:\n",
    "        # Since both are TCP/UDP services, choice doesn't matter at all\n",
    "        services += [{'port': port, 'service': tcp_service, 'protocol': 'TCP/UDP'}]\n",
    "        \n",
    "    elif tcp_service is not None:\n",
    "        services += [{'port': port, 'service': tcp_service, 'protocol': 'TCP'}]\n",
    "        \n",
    "    elif udp_service is not None:\n",
    "        services += [{'port': port, 'service': udp_service, 'protocol': 'UDP'}]\n",
    "        \n",
    "    else:\n",
    "        # If neither TCP nor UDP, it is not necessary\n",
    "        pass\n",
    "                     \n",
    "for service in services:\n",
    "    print(\"    {0:<2}\\tService: {1:<10}\\tProtocol: {2:<10}\".format(service['port'], service['service'], \n",
    "                                                                   service['protocol']))"
   ]
  },
  {
   "cell_type": "markdown",
   "metadata": {},
   "source": [
    "### Obtendo informações sobre endereços remotos (geolocalização)"
   ]
  },
  {
   "cell_type": "markdown",
   "metadata": {},
   "source": [
    "Exibindo os endereços IP de 10 hostnames conhecidos."
   ]
  },
  {
   "cell_type": "code",
   "execution_count": 6,
   "metadata": {},
   "outputs": [
    {
     "name": "stdout",
     "output_type": "stream",
     "text": [
      "google.com           IP address: 216.58.202.206\n",
      "wikipedia.org        IP address: 208.80.154.224\n",
      "ufc.br               IP address: 200.17.41.185\n",
      "si3.ufc.br           IP address: 200.17.41.246\n",
      "debian.org           IP address: 130.89.148.14\n",
      "python.org           IP address: 23.253.135.79\n",
      "manjaro.org          IP address: 176.9.38.148\n",
      "telegram.org         IP address: 149.154.167.99\n",
      "github.com           IP address: 192.30.253.113\n",
      "kaggle.com           IP address: 168.62.224.13\n",
      "stackoverflow.com    IP address: 151.101.129.69\n",
      "tensorflow.org       IP address: 216.239.34.21\n",
      "cam.ac.uk            IP address: 131.111.150.25\n",
      "uni-heidelberg.de    IP address: 129.206.13.27\n",
      "ec-nantes.fr         IP address: 130.66.41.41\n",
      "shonenjump.com       IP address: 202.218.223.146\n"
     ]
    }
   ],
   "source": [
    "hostnames = ['google.com', 'wikipedia.org', 'ufc.br', 'si3.ufc.br', \n",
    "             'debian.org', 'python.org', 'manjaro.org', 'telegram.org', \n",
    "             'github.com', 'kaggle.com', 'stackoverflow.com', 'tensorflow.org', \n",
    "             'cam.ac.uk', 'uni-heidelberg.de', 'ec-nantes.fr', 'shonenjump.com']\n",
    "\n",
    "websites = []\n",
    "for hostname in hostnames: \n",
    "    ip = socket.gethostbyname(hostname)\n",
    "    websites += [{'hostname': hostname, 'ip': ip}] \n",
    "\n",
    "for site in websites:\n",
    "    print ('{0:<20} IP address: {1:<2}'.format(site['hostname'], site['ip']))"
   ]
  },
  {
   "cell_type": "markdown",
   "metadata": {},
   "source": [
    "Exibindo o nome do país de cada  endereço encontrado através de uma requisição HTTP"
   ]
  },
  {
   "cell_type": "code",
   "execution_count": 7,
   "metadata": {},
   "outputs": [
    {
     "name": "stdout",
     "output_type": "stream",
     "text": [
      "google.com           Country: United States\n",
      "wikipedia.org        Country: United States\n",
      "ufc.br               Country: Brazil\n",
      "si3.ufc.br           Country: Brazil\n",
      "debian.org           Country: United States\n",
      "python.org           Country: United States\n",
      "manjaro.org          Country: Germany\n",
      "telegram.org         Country: Netherlands\n",
      "github.com           Country: United States\n",
      "kaggle.com           Country: United States\n",
      "stackoverflow.com    Country: United States\n",
      "tensorflow.org       Country: United States\n",
      "cam.ac.uk            Country: United Kingdom\n",
      "uni-heidelberg.de    Country: Germany\n",
      "ec-nantes.fr         Country: France\n",
      "shonenjump.com       Country: Japan\n"
     ]
    }
   ],
   "source": [
    "for hostname in hostnames:\n",
    "    # A HTTP request is made by method 'get()'\n",
    "    request = requests.get('http://freegeoip.net/json/' + hostname)\n",
    "    # Now we got a response object called request. We can get any information we need from this object,\n",
    "    # more precisely, the JSON file with the informations generated by method json()     \n",
    "    data = request.json()\n",
    "    \n",
    "    print(\"{0:<20} Country: {1:<2}\".format(hostname, data['country_name']))"
   ]
  },
  {
   "cell_type": "code",
   "execution_count": null,
   "metadata": {},
   "outputs": [],
   "source": []
  }
 ],
 "metadata": {
  "kernelspec": {
   "display_name": "Python 3",
   "language": "python",
   "name": "python3"
  },
  "language_info": {
   "codemirror_mode": {
    "name": "ipython",
    "version": 3
   },
   "file_extension": ".py",
   "mimetype": "text/x-python",
   "name": "python",
   "nbconvert_exporter": "python",
   "pygments_lexer": "ipython3",
   "version": "3.6.4"
  }
 },
 "nbformat": 4,
 "nbformat_minor": 2
}
